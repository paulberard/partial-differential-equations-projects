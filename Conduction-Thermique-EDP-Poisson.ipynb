{
 "cells": [
  {
   "cell_type": "markdown",
   "metadata": {},
   "source": [
    "BÉRARD Paul (CS 1A – EDP)"
   ]
  },
  {
   "cell_type": "markdown",
   "metadata": {},
   "source": [
    "# Modélisation d'un problème de conduction thermique dans une plaque plane par une équation différentielle partielle elliptique de Poisson"
   ]
  },
  {
   "cell_type": "markdown",
   "metadata": {},
   "source": [
    "## Modélisation physique du phénomène"
   ]
  },
  {
   "cell_type": "markdown",
   "metadata": {},
   "source": [
    "<img src=\"Conduction-thermique.jpeg\" alt=\"Image plaque chauffée\" style=\"width: 350px;\"/>"
   ]
  },
  {
   "cell_type": "markdown",
   "metadata": {},
   "source": [
    "*Nota bene : le plan $(xOy)$ est le plan de la plaque délimitée par sa frontière marquée en rouge.*"
   ]
  },
  {
   "cell_type": "markdown",
   "metadata": {},
   "source": [
    "Il s'agit de modéliser les phénomènes de conduction thermique dans une plaque plane en présence de sources de chaleur de différentes formes, présentées dans la suite. Physiquement, l'équation provient du premier principe de la thermodynamique appliqué à un élément infinitésimal de la plaque entre $t$ et $t+dt$, exprimé sous sa forme opérationnelle pour les phénomènes de diffusion thermique :\n",
    "\n",
    "\\begin{equation}\n",
    "d^{2}U=\\delta^{2} Q_{e} + \\delta^{2}Q_{c}\n",
    "\\end{equation}\n",
    "\n",
    "où $d^{2}U=\\mu c d\\tau \\frac{\\partial T}{\\partial t}dt$ correspond à la variation d'énergie interne d'un élément de volume $ d\\tau $ entre $t$ et $t+dt$, avec $\\mu$ la masse volumique de la plaque et $c$ sa capacité thermique massique.\n",
    "\n",
    "En utilisant la loi de Fourier, on obtient : $\\delta^{2} Q_{e}=\\lambda \\Delta T d\\tau dt$, où $\\lambda$ représente la conductivité thermique de la plaque. En notant $\\sigma$ le terme source de chaleur par unité de temps et de volume, on a : $\\delta^{2}Q_{c}=\\sigma  d\\tau dt$. Finalement, cela donne :\n",
    "\n",
    "\\begin{equation}\n",
    "\\mu c \\frac{\\partial T}{\\partial t}=\\lambda \\Delta T + \\sigma\n",
    "\\end{equation}"
   ]
  },
  {
   "cell_type": "markdown",
   "metadata": {},
   "source": [
    "## Équations, domaine, paramètres et conditions aux bords"
   ]
  },
  {
   "cell_type": "markdown",
   "metadata": {},
   "source": [
    "En régime stationnaire, et en considérant les conditions aux bords, on obtient :\n",
    "\n",
    "\\begin{equation}\n",
    "  \\begin{cases}\n",
    "    -\\Delta T(x,y)=\\frac{\\sigma (x,y)}{\\lambda}\\mbox{ sur } \\Omega\\\\\n",
    "    \\frac{\\partial T}{\\partial n}(x,y) = 0 \\mbox{ sur } \\partial \\Omega\\\\\n",
    "    T(x,y) = T_{d}(x,y) \\mbox{ sur } \\partial \\Omega\n",
    "  \\end{cases}\n",
    "\\end{equation}\n",
    "\n",
    "où l'on définit $\\Omega\\subset\\rm I\\!R^{2}$ (l'espace occupé par la plaque) tel que $\\Omega = \\{(x,y)\\in \\rm I\\!R^{2}, x^2+y^2\\leq R^2 \\}$ : on condidérera donc la plaque circulaire.\n",
    "\n",
    "On choisit : $\\lambda = 200\\ W.m^{-1}.K^{-1}$ et $R=20\\ cm$."
   ]
  },
  {
   "cell_type": "markdown",
   "metadata": {},
   "source": [
    "## Adimensionnement – Formulation variationnelle"
   ]
  },
  {
   "cell_type": "markdown",
   "metadata": {},
   "source": [
    "On définit les grandeurs adimensionnées :\n",
    "\n",
    "$x^*=\\frac{x}{R}, y^*=\\frac{y}{R}, T^*=\\frac{T}{T_a}, \\sigma^*=\\frac{\\sigma}{\\sigma_0}$ et $\\lambda^*=\\frac{\\lambda T_a}{\\sigma_0 R^2}$, où $\\sigma_0 = 1\\ W.m^{-3}$ et $T_a=298\\ K$, la température ambiante, température de la plaque au repos en l'absence de source de chaleur.\n",
    "\n",
    "Ainsi, $\\Omega^* = \\{(x,y)\\in \\rm I\\!R^{2}, x^{*2}+y^{*2}\\leq 1 \\}$ et nos équations adimensionnées s'écrivent : \n",
    "\n",
    "\\begin{equation}\n",
    "  \\begin{cases}\n",
    "    -\\Delta T^*(x,y)=\\frac{\\sigma^* (x,y)}{\\lambda^*}\\mbox{ sur } \\Omega^*\\\\\n",
    "    \\frac{\\partial T^*}{\\partial n}(x,y) = 0 \\mbox{ sur } \\partial \\Omega^*\\\\\n",
    "    T^*(x,y) = \\frac{T_{d}(x,y)}{T_a}(=T^*_{d}(x,y)) \\mbox{ sur } \\partial \\Omega^*\n",
    "  \\end{cases}\n",
    "\\end{equation}\n",
    "\n",
    "Nous omettrons la notation \"$*$\" dans la suite du document, tout en utilisant les grandeurs adimensionnées définies.\n",
    "\n",
    "Avec $H=\\{f\\ \\mbox{ continue et  } C^1 \\mbox{ par morceaux sur }\\Omega \\ ; f|_{\\partial \\Omega}=0\\}$, la formulation variationnelle du problème s'écrit :\n",
    "\n",
    "\\begin{equation}\n",
    "\\forall f \\in H, \\quad \\int_{\\Omega}\\Delta T(x,y) f(x,y)dxdy =-\\quad \\int_{\\Omega}\\nabla T(x,y)·\\nabla f(x,y)dxdy + \\quad \\int_{\\partial \\Omega} \\frac{\\partial T}{\\partial n}(x,y) f(x,y) dxdy\n",
    "\\end{equation}\n",
    "\n",
    "Soit :\n",
    "\n",
    "\\begin{equation}\n",
    "\\forall f \\in H, \\quad \\int_{\\Omega}\\nabla T(x,y)·\\nabla f(x,y)dxdy= \\quad \\int_{\\Omega} \\frac{\\sigma(x,y)}{\\lambda} f(x,y)dxdy\n",
    "\\end{equation}"
   ]
  },
  {
   "cell_type": "markdown",
   "metadata": {},
   "source": [
    "## Simulation numérique 1D"
   ]
  },
  {
   "cell_type": "markdown",
   "metadata": {},
   "source": [
    "Le problème de conduction thermique se simplifie, en 1D, à l'étude d'un segment $[0,R]$ soumis à une source de chaleur $\\sigma$. L'équation se simplifie en :\n",
    "\n",
    "\\begin{equation}\n",
    "    -\\frac{d^{2} T}{dx^2}=\\frac{\\sigma (x)}{\\lambda}\\mbox{ sur } [0,1]\\\\\n",
    "\\end{equation}\n",
    "\n",
    "On supposera en outre que $T(0)=T(1)=0$ (signifiant physiquement $T(0)=T(R)=0$).\n",
    "\n",
    "On choisit dans cet exemple $\\sigma$ uniforme sur $[0,1]$ et tel que $\\sigma=10 000$. Ainsi, on obtient :\n",
    "\n",
    "\\begin{equation}\n",
    "    T(x)=-\\frac{\\sigma}{\\lambda}x^2=-50x^2\\mbox{ sur } [0,1]\\\\\n",
    "\\end{equation}"
   ]
  },
  {
   "cell_type": "markdown",
   "metadata": {},
   "source": [
    "### Résolution et visualisation de la solution"
   ]
  },
  {
   "cell_type": "markdown",
   "metadata": {},
   "source": [
    "<p style=\"color:green;\"> Modules </p>"
   ]
  },
  {
   "cell_type": "code",
   "execution_count": 385,
   "metadata": {},
   "outputs": [],
   "source": [
    "from dolfin import *\n",
    "from __future__ import print_function\n",
    "from fenics import *\n",
    "import matplotlib.pyplot as plt"
   ]
  },
  {
   "cell_type": "markdown",
   "metadata": {},
   "source": [
    "<p style=\"color:green;\"> Constantes utilisées </p>"
   ]
  },
  {
   "cell_type": "code",
   "execution_count": 386,
   "metadata": {},
   "outputs": [],
   "source": [
    "Lambda = 500\n",
    "sigma = 10000\n",
    "tol = 1E-14\n",
    "X = 1 "
   ]
  },
  {
   "cell_type": "markdown",
   "metadata": {},
   "source": [
    "<p style=\"color:green;\"> Maillage </p>"
   ]
  },
  {
   "cell_type": "code",
   "execution_count": 387,
   "metadata": {},
   "outputs": [
    {
     "data": {
      "text/plain": [
       "[<matplotlib.lines.Line2D at 0x1411a04c0>]"
      ]
     },
     "execution_count": 387,
     "metadata": {},
     "output_type": "execute_result"
    },
    {
     "data": {
      "image/png": "[encoded data removed]",
      "text/plain": [
       "<Figure size 432x288 with 1 Axes>"
      ]
     },
     "metadata": {
      "needs_background": "light"
     },
     "output_type": "display_data"
    }
   ],
   "source": [
    "nx1 = 100\n",
    "\n",
    "mesh1 = UnitIntervalMesh(nx1)\n",
    "\n",
    "plt.figure(1)\n",
    "plot(mesh1, title=\"Maillage du segment [0,1]\")"
   ]
  },
  {
   "cell_type": "markdown",
   "metadata": {},
   "source": [
    "<p style=\"color:green;\"> Définition de l'espace Hh dans lequel on cherche la solution </p>"
   ]
  },
  {
   "cell_type": "code",
   "execution_count": 388,
   "metadata": {},
   "outputs": [],
   "source": [
    "Hh1 = FunctionSpace(mesh1, 'P', 1)"
   ]
  },
  {
   "cell_type": "markdown",
   "metadata": {},
   "source": [
    "<p style=\"color:green;\"> Conditions aux limites </p>"
   ]
  },
  {
   "cell_type": "code",
   "execution_count": 389,
   "metadata": {},
   "outputs": [],
   "source": [
    "class DirichletBoundary1(SubDomain):\n",
    "    def inside(self, x, on_boundary):\n",
    "        return on_boundary and (abs(x[0])<tol or abs(x[0]-1)<tol) \n",
    "\n",
    "D_boundary = DirichletBoundary1()\n",
    "\n",
    "Dirichlet_limite = DirichletBC(Hh1,Constant(1),D_boundary)"
   ]
  },
  {
   "cell_type": "markdown",
   "metadata": {},
   "source": [
    "<p style=\"color:green;\"> Formulation variationnelle </p>"
   ]
  },
  {
   "cell_type": "code",
   "execution_count": 390,
   "metadata": {},
   "outputs": [],
   "source": [
    "T1 = TrialFunction(Hh1)\n",
    "f1 = TestFunction(Hh1)\n",
    "md1 = sigma*f1/Lambda*dx\n",
    "i1 = inner(grad(T1),grad(f1))*dx"
   ]
  },
  {
   "cell_type": "markdown",
   "metadata": {},
   "source": [
    "<p style=\"color:green;\"> Résolution de l'approximation variationnelle </p>"
   ]
  },
  {
   "cell_type": "code",
   "execution_count": 391,
   "metadata": {},
   "outputs": [],
   "source": [
    "T1 = Function(Hh1)\n",
    "solve(i1 == md1, T1, Dirichlet_limite)"
   ]
  },
  {
   "cell_type": "markdown",
   "metadata": {},
   "source": [
    "<p style=\"color:green;\"> Tracé de la solution </p>"
   ]
  },
  {
   "cell_type": "code",
   "execution_count": 392,
   "metadata": {},
   "outputs": [
    {
     "data": {
      "text/plain": [
       "Text(0, 0.5, 'T/T$_a$')"
      ]
     },
     "execution_count": 392,
     "metadata": {},
     "output_type": "execute_result"
    },
    {
     "data": {
      "image/png": "[encoded data removed]",
      "text/plain": [
       "<Figure size 432x288 with 1 Axes>"
      ]
     },
     "metadata": {
      "needs_background": "light"
     },
     "output_type": "display_data"
    }
   ],
   "source": [
    "plt.figure(2)\n",
    "plot(u1,title='Température le long du segment de conducteur thermique : $T=f(x)$')\n",
    "plt.xlabel('x/R')\n",
    "plt.ylabel('T/T$_a$')"
   ]
  },
  {
   "cell_type": "markdown",
   "metadata": {},
   "source": [
    "## Simulation numérique 2D"
   ]
  },
  {
   "cell_type": "markdown",
   "metadata": {},
   "source": [
    "Il s'agit ici de visualiser, par le biais d'une simulation sur FENICS, le profil de la température sur la plaque en fonction du point $(x,y)$ sur celle-ci. On considère deux cas : une source de chaleur de forme gaussienne centrées en un point de coordonnées $(x_{\\sigma},y_{\\sigma})$ donné, et une source de chaleur uniforme.\n",
    "\n",
    "On pourra représenter l'allure de la température sur la plaque par la colorisation du disque représentant la plaque définie par $(x,y)\\in \\Omega \\mapsto T(x,y)$, où la couleur correspondra à la valeur de la température en un point donné de la plaque conductrice."
   ]
  },
  {
   "cell_type": "markdown",
   "metadata": {},
   "source": [
    "<p style=\"color:green;\"> Constantes et géométrie </p>"
   ]
  },
  {
   "cell_type": "code",
   "execution_count": 393,
   "metadata": {},
   "outputs": [
    {
     "data": {
      "text/plain": [
       "[<matplotlib.lines.Line2D at 0x14578d1f0>,\n",
       " <matplotlib.lines.Line2D at 0x14578d5b0>]"
      ]
     },
     "execution_count": 393,
     "metadata": {},
     "output_type": "execute_result"
    },
    {
     "data": {
      "image/png": "[encoded data removed]",
      "text/plain": [
       "<Figure size 432x288 with 1 Axes>"
      ]
     },
     "metadata": {
      "needs_background": "light"
     },
     "output_type": "display_data"
    }
   ],
   "source": [
    "from mshr import *  # À installer avec la commande conda install -c conda-forge mshr\n",
    "\n",
    "r = 1\n",
    "Lambda = 1\n",
    "sigma = 100\n",
    " \n",
    "A = 9\n",
    "Rc = 0.4\n",
    "# Source de chaleur non uniforme\n",
    "sigma_2 = Expression('10*exp(-pow(A,2)*(pow(x[0]-2*Rc, 2) + pow(x[1]-Rc, 2)))', A=A, Rc=Rc, degree = 2)\n",
    "\n",
    "tol = 1E-3\n",
    "nx2=100\n",
    "\n",
    "disque = Circle(Point(0,0),r)\n",
    "mesh2 = generate_mesh(disque, nx2)\n",
    "\n",
    "plt.figure(1)\n",
    "plot(mesh2, title=\"Maillage du disque\")"
   ]
  },
  {
   "cell_type": "markdown",
   "metadata": {},
   "source": [
    "<p style=\"color:green;\">  Définition de l'espace Hh dans lequel on cherche la solution </p>"
   ]
  },
  {
   "cell_type": "code",
   "execution_count": 394,
   "metadata": {},
   "outputs": [],
   "source": [
    "Hh2 = FunctionSpace(mesh2, 'P', 2)"
   ]
  },
  {
   "cell_type": "markdown",
   "metadata": {},
   "source": [
    "<p style=\"color:green;\"> Conditions aux limites </p>"
   ]
  },
  {
   "cell_type": "code",
   "execution_count": 395,
   "metadata": {},
   "outputs": [],
   "source": [
    "class Circle_Condition_Dirichlet(SubDomain):\n",
    "    def inside(self, x, on_boundary):\n",
    "        oncircle = x[0]**2 + x[1]**2 \n",
    "        return on_boundary and oncircle > (r-0.1)**2\n",
    "\n",
    "D_boundary_circle = Circle_Condition_Dirichlet()\n",
    "\n",
    "Dirichlet_Cercle = DirichletBC(Hh2, Constant(0), D_boundary_circle)"
   ]
  },
  {
   "cell_type": "markdown",
   "metadata": {},
   "source": [
    "<p style=\"color:green;\">  Formulation variationnelle </p>"
   ]
  },
  {
   "cell_type": "code",
   "execution_count": 396,
   "metadata": {},
   "outputs": [],
   "source": [
    "T2 = TrialFunction(Hh2)\n",
    "f2 = TestFunction(Hh2)\n",
    "md2 = sigma*f2/Lambda*dx\n",
    "i2 = inner(grad(T2),grad(f2))*dx\n",
    "\n",
    "# Pour une source de chaleur gaussienne localisée\n",
    "md2_2 = sigma_2*f2/Lambda*dx"
   ]
  },
  {
   "cell_type": "markdown",
   "metadata": {},
   "source": [
    "<p style=\"color:green;\">  Résolution de l'approximation variationnelle </p>"
   ]
  },
  {
   "cell_type": "code",
   "execution_count": 397,
   "metadata": {},
   "outputs": [],
   "source": [
    "T2 = Function(Hh2)\n",
    "solve(i2== md2, T2, Dirichlet_Cercle)\n",
    "\n",
    "# Pour une source de chaleur gaussienne localisée\n",
    "T2_2 = Function(Hh2)\n",
    "solve(i2 == md2_2, T2_2, Dirichlet_Cercle)"
   ]
  },
  {
   "cell_type": "markdown",
   "metadata": {},
   "source": [
    "<p style=\"color:green;\"> Tracé des solutions selon la forme de la source de chaleur  </p>"
   ]
  },
  {
   "cell_type": "code",
   "execution_count": 398,
   "metadata": {},
   "outputs": [
    {
     "data": {
      "text/plain": [
       "<matplotlib.colorbar.Colorbar at 0x1587a0160>"
      ]
     },
     "execution_count": 398,
     "metadata": {},
     "output_type": "execute_result"
    },
    {
     "data": {
      "image/png": "[encoded data removed]",
      "text/plain": [
       "<Figure size 432x288 with 2 Axes>"
      ]
     },
     "metadata": {
      "needs_background": "light"
     },
     "output_type": "display_data"
    }
   ],
   "source": [
    "plt.figure(2)\n",
    "plT=plot(T2)\n",
    "plt.title('Réponse en température T de la plaque pour une source de chaleur constante $\\sigma$')\n",
    "plt.xlabel('x/R')\n",
    "plt.ylabel('y/R')\n",
    "plt.colorbar(plT)"
   ]
  },
  {
   "cell_type": "code",
   "execution_count": 399,
   "metadata": {},
   "outputs": [
    {
     "data": {
      "text/plain": [
       "<matplotlib.colorbar.Colorbar at 0x14df21e80>"
      ]
     },
     "execution_count": 399,
     "metadata": {},
     "output_type": "execute_result"
    },
    {
     "data": {
      "image/png": "[encoded data removed]",
      "text/plain": [
       "<Figure size 432x288 with 2 Axes>"
      ]
     },
     "metadata": {
      "needs_background": "light"
     },
     "output_type": "display_data"
    },
    {
     "data": {
      "image/png": "[encoded data removed]",
      "text/plain": [
       "<Figure size 432x288 with 2 Axes>"
      ]
     },
     "metadata": {
      "needs_background": "light"
     },
     "output_type": "display_data"
    }
   ],
   "source": [
    "plt.figure(3)\n",
    "sigma_2 = interpolate(sigma_2, Hh2)\n",
    "plT_sigma = plot(sigma_2, title='Source de chaleur $\\sigma$ en un point donné')\n",
    "plt.xlabel('x/R')\n",
    "plt.ylabel('y/R')\n",
    "plt.colorbar(plT_sigma)\n",
    "\n",
    "\n",
    "plt.figure(4)\n",
    "plT_2=plot(T2_2)\n",
    "plt.title('Réponse en température T de la plaque')\n",
    "plt.xlabel('x/R')\n",
    "plt.ylabel('y/R')\n",
    "plt.colorbar(plT_2)"
   ]
  },
  {
   "cell_type": "markdown",
   "metadata": {},
   "source": [
    "## Simulation numérique 2D avec des sources aléatoirement distribuées et une conductivité thermique $\\lambda$ aléatoire "
   ]
  },
  {
   "cell_type": "markdown",
   "metadata": {},
   "source": [
    "Il s'agit à présent de modéliser le problème en y intégrant une composante aléatoire. On va, pour cela, appliquer à la plaque une source de chaleur uniforme mais de valeur aléatoire suivant une loi gaussienne centrée en $10 000$ et d'écart-type $1 000$.\n",
    "\n",
    "Pour donner un caractère aléatoire à la conductivité thermique $\\lambda$, on va la définir par morceaux en faisant une partition du disque représentant la plaque plane conductrice. Dans chaque partie ainsi définie, $\\lambda \\hookrightarrow \\mathcal{U([200,2000])}$."
   ]
  },
  {
   "cell_type": "markdown",
   "metadata": {},
   "source": [
    "<p style=\"color:green;\"> Constantes </p>"
   ]
  },
  {
   "cell_type": "code",
   "execution_count": 448,
   "metadata": {},
   "outputs": [],
   "source": [
    "tol = 1E-1\n",
    "nx3 = 300\n",
    "r = 1"
   ]
  },
  {
   "cell_type": "markdown",
   "metadata": {},
   "source": [
    "<p style=\"color:green;\"> Maillage</p>"
   ]
  },
  {
   "cell_type": "code",
   "execution_count": 449,
   "metadata": {},
   "outputs": [
    {
     "data": {
      "text/plain": [
       "[<matplotlib.lines.Line2D at 0x1620dba90>,\n",
       " <matplotlib.lines.Line2D at 0x1620db1f0>]"
      ]
     },
     "execution_count": 449,
     "metadata": {},
     "output_type": "execute_result"
    },
    {
     "data": {
      "image/png": "[encoded data removed]",
      "text/plain": [
       "<Figure size 432x288 with 1 Axes>"
      ]
     },
     "metadata": {
      "needs_background": "light"
     },
     "output_type": "display_data"
    }
   ],
   "source": [
    "disque = Circle(Point(0,0),r)\n",
    "mesh3 = generate_mesh(disque, nx3)\n",
    "\n",
    "plt.figure(1)\n",
    "plot(mesh2, title=\"Maillage du disque\")"
   ]
  },
  {
   "cell_type": "markdown",
   "metadata": {},
   "source": [
    "<p style=\"color:green;\"> Définition de la source de chaleur aléatoire </p>"
   ]
  },
  {
   "cell_type": "code",
   "execution_count": 450,
   "metadata": {},
   "outputs": [],
   "source": [
    "from numpy import *\n",
    "\n",
    "sigma = random.normal(10000,1000)"
   ]
  },
  {
   "cell_type": "markdown",
   "metadata": {},
   "source": [
    "<p style=\"color:green;\"> Définition aléatoire de $\\lambda$ dans chacune des parties du disque</p>"
   ]
  },
  {
   "cell_type": "code",
   "execution_count": 464,
   "metadata": {},
   "outputs": [
    {
     "name": "stdout",
     "output_type": "stream",
     "text": [
      "Calling FFC just-in-time (JIT) compiler, this may take some time.\n"
     ]
    },
    {
     "data": {
      "text/plain": [
       "<matplotlib.colorbar.Colorbar at 0x15beb2910>"
      ]
     },
     "execution_count": 464,
     "metadata": {},
     "output_type": "execute_result"
    },
    {
     "data": {
      "image/png": "[encoded data removed]",
      "text/plain": [
       "<Figure size 432x288 with 2 Axes>"
      ]
     },
     "metadata": {
      "needs_background": "light"
     },
     "output_type": "display_data"
    }
   ],
   "source": [
    "x = SpatialCoordinate(mesh3)\n",
    "\n",
    "lambda1=random.uniform(200,2000)\n",
    "lambda2=random.uniform(200,2000)\n",
    "\n",
    "Lambda=conditional(lt(x[0], Constant(0)),lambda1,lambda2)\n",
    "\n",
    "plL=plot(Lambda,title='Valeur de $\\lambda$ aléatoirement choisie')\n",
    "plt.xlabel('x/R')\n",
    "plt.ylabel('y/R')\n",
    "plt.colorbar(plL)"
   ]
  },
  {
   "cell_type": "markdown",
   "metadata": {},
   "source": [
    "<p style=\"color:green;\">  Définition de l'espace Hh dans lequel on cherche la solution </p>"
   ]
  },
  {
   "cell_type": "code",
   "execution_count": 452,
   "metadata": {},
   "outputs": [],
   "source": [
    "Hh3 = FunctionSpace(mesh3, 'P', 2)"
   ]
  },
  {
   "cell_type": "markdown",
   "metadata": {},
   "source": [
    "<p style=\"color:green;\">  Conditions aux limites </p>"
   ]
  },
  {
   "cell_type": "code",
   "execution_count": 453,
   "metadata": {},
   "outputs": [],
   "source": [
    "class Circle_Condition_Dirichlet(SubDomain):\n",
    "    def inside(self, x, on_boundary):\n",
    "        oncircle = x[0]**2+ x[1]**2 # Passage en coordonnées polaires \n",
    "        return on_boundary and oncircle>(r-0.1)**2\n",
    "\n",
    "D_boundary_circle = Circle_Condition_Dirichlet()\n",
    "\n",
    "Dirichlet_Cercle = DirichletBC(Hh3, Constant(0), D_boundary_circle)"
   ]
  },
  {
   "cell_type": "markdown",
   "metadata": {},
   "source": [
    "<p style=\"color:green;\">  Formulation variationnelle </p>"
   ]
  },
  {
   "cell_type": "code",
   "execution_count": 454,
   "metadata": {},
   "outputs": [],
   "source": [
    "T3 = TrialFunction(Hh3)\n",
    "f3 = TestFunction(Hh3)\n",
    "md3 = sigma*f3/Lambda*dx\n",
    "i3 = inner(grad(T3),grad(f3))*dx"
   ]
  },
  {
   "cell_type": "markdown",
   "metadata": {},
   "source": [
    "<p style=\"color:green;\">  Résolution de l'approximation variationnelle </p>"
   ]
  },
  {
   "cell_type": "code",
   "execution_count": 455,
   "metadata": {},
   "outputs": [
    {
     "name": "stdout",
     "output_type": "stream",
     "text": [
      "Calling FFC just-in-time (JIT) compiler, this may take some time.\n"
     ]
    }
   ],
   "source": [
    "T3 = Function(Hh3)\n",
    "solve(i3== md3, T3, Dirichlet_Cercle)"
   ]
  },
  {
   "cell_type": "markdown",
   "metadata": {},
   "source": [
    "<p style=\"color:green;\"> Tracé de la solution </p>"
   ]
  },
  {
   "cell_type": "code",
   "execution_count": 463,
   "metadata": {},
   "outputs": [
    {
     "data": {
      "text/plain": [
       "<matplotlib.colorbar.Colorbar at 0x14caf9c10>"
      ]
     },
     "execution_count": 463,
     "metadata": {},
     "output_type": "execute_result"
    },
    {
     "data": {
      "image/png": "[encoded data removed]",
      "text/plain": [
       "<Figure size 432x288 with 2 Axes>"
      ]
     },
     "metadata": {
      "needs_background": "light"
     },
     "output_type": "display_data"
    }
   ],
   "source": [
    "plt.figure(5)\n",
    "plT=plot(T3)\n",
    "plt.title('Réponse en température T à une source de chaleur $\\sigma$ uniforme de valeur \\n aléatoirement choisie sur un disque de conductivité thermique non uniforme \\n')\n",
    "plt.xlabel('x/R')\n",
    "plt.ylabel('y/R')\n",
    "plt.colorbar(plT)"
   ]
  },
  {
   "cell_type": "markdown",
   "metadata": {},
   "source": [
    "## Conclusion"
   ]
  },
  {
   "cell_type": "markdown",
   "metadata": {},
   "source": [
    "Ainsi, le problème de la conduction thermique dans une plaque plane en régime stationnaire s'inscrit dans les problèmes régis par une EDP elliptique et des simulations sur FENICS permettent de mieux appréhender les phénomènes en jeu.\n",
    "\n",
    "La première simulation s'intéresse au cas simple à une dimension pour comprendre intuitivement le lien entre l'équation (avec sa résolution) et la réalité physique du phénomène.\n",
    "\n",
    "La seconde simulation, en deux dimensions, permet de généraliser cette étude à une plaque circulaire à laquelle on applique une source de chaleur soit localisée en un point donné, soit uniforme sur la plaque pour observer la répartition de la chaleur dans la plaque via différentes représentations visuelles simples à appréhender et permettant de faire le lien avec la réalité physique.\n",
    "\n",
    "La dernière simulation, avec sa composante aléatoire, étudie ce même phénomène avec une source de chaleur uniforme de valeur aléatoire (suivant une loi normale) ainsi qu'une conductivité thermique aléatoire et non uniforme sur la plaque : elle définie par morceaux et on observe que la plaque est plus chaude dans la zone de haute conductivité thermique que dans la zone de plus basse conductivité thermique (alors que la source de chaleur appliquée est uniforme), ce qui est physiquement satisfaisant."
   ]
  },
  {
   "cell_type": "markdown",
   "metadata": {},
   "source": [
    "## Sources utilisées"
   ]
  },
  {
   "cell_type": "markdown",
   "metadata": {},
   "source": [
    "N. POINT et J.-H. SAIAC : *Équations aux dérivées partielles – Mathématiques et méthodes numériques*, ESPCI \n",
    "\n",
    "\n",
    "B. GIBERT : *Étude expérimentale de la diffusion thermique dans les monocristaux d’olivine et dans les roches du manteau supérieur*, Université Montpellier II"
   ]
  }
 ],
 "metadata": {
  "kernelspec": {
   "display_name": "Python 3",
   "language": "python",
   "name": "python3"
  },
  "language_info": {
   "codemirror_mode": {
    "name": "ipython",
    "version": 3
   },
   "file_extension": ".py",
   "mimetype": "text/x-python",
   "name": "python",
   "nbconvert_exporter": "python",
   "pygments_lexer": "ipython3",
   "version": "3.7.3"
  }
 },
 "nbformat": 4,
 "nbformat_minor": 4
}
